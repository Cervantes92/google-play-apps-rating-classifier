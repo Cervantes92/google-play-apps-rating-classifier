{
 "cells": [
  {
   "cell_type": "code",
   "execution_count": 18,
   "metadata": {},
   "outputs": [
    {
     "name": "stdout",
     "output_type": "stream",
     "text": [
      "0.20.3\n"
     ]
    }
   ],
   "source": [
    "import pandas as pd\n",
    "import seaborn as sns\n",
    "import numpy as np\n",
    "import matplotlib.pyplot as plt\n",
    "\n",
    "from sklearn import tree, ensemble \n",
    "from sklearn.model_selection import cross_val_score, train_test_split\n",
    "from sklearn.metrics import confusion_matrix\n",
    "from sklearn.preprocessing import Normalizer\n",
    "\n",
    "from IPython.display import display as dsp\n",
    "from IPython.display import Image\n",
    "\n",
    "import pydotplus\n",
    "import graphviz\n",
    "import time\n",
    "\n",
    "import sklearn\n",
    "print(sklearn.__version__)"
   ]
  },
  {
   "cell_type": "code",
   "execution_count": 5,
   "metadata": {},
   "outputs": [],
   "source": [
    "def model_validate(mod, X, Y):\n",
    "    \n",
    "    X_train, X_test, Y_train, Y_test = train_test_split(X, Y, test_size =  0.2)\n",
    "    \n",
    "    start_time = time.time()\n",
    "    mod.fit(X_train, Y_train)\n",
    "    print('Training time:\\n{} s'.format(time.time() - start_time))\n",
    "    \n",
    "    print('\\n20% holdout score:\\n{}'.format(mod.score(X_test, Y_test)))\n",
    "    \n",
    "    print('\\nFold Scores:\\n}{}'.format(cross_val_score(mod, X, Y, CV = 5)))\n",
    "    \n",
    "    Y_pred = mod.predict(X)\n",
    "    \n",
    "    print('\\nConfusion Matrix:\\n{}'.format(confusion_matrix(Y, Y_pred)))"
   ]
  },
  {
   "cell_type": "markdown",
   "metadata": {},
   "source": [
    "# Google Play Store: An Analysis\n",
    "\n",
    "__Our Data__\n",
    "\n",
    "We have data on nearly ten thousand apps on the google play store. We want to create a moded that will anticipate how the app will be received given certain criteria. This kind of data would be useful for app developers to know what apps to invest time and resources into.\n",
    "\n",
    "To begin our investigation, we will need to import our datasets. We have two datasets that may be useful: google play store reviews and google play store apps. Lets explore the data:"
   ]
  },
  {
   "cell_type": "code",
   "execution_count": 6,
   "metadata": {},
   "outputs": [
    {
     "data": {
      "text/html": [
       "<div>\n",
       "<style scoped>\n",
       "    .dataframe tbody tr th:only-of-type {\n",
       "        vertical-align: middle;\n",
       "    }\n",
       "\n",
       "    .dataframe tbody tr th {\n",
       "        vertical-align: top;\n",
       "    }\n",
       "\n",
       "    .dataframe thead th {\n",
       "        text-align: right;\n",
       "    }\n",
       "</style>\n",
       "<table border=\"1\" class=\"dataframe\">\n",
       "  <thead>\n",
       "    <tr style=\"text-align: right;\">\n",
       "      <th></th>\n",
       "      <th>App</th>\n",
       "      <th>Category</th>\n",
       "      <th>Rating</th>\n",
       "      <th>Reviews</th>\n",
       "      <th>Size</th>\n",
       "      <th>Installs</th>\n",
       "      <th>Type</th>\n",
       "      <th>Price</th>\n",
       "      <th>Content Rating</th>\n",
       "      <th>Genres</th>\n",
       "      <th>Last Updated</th>\n",
       "      <th>Current Ver</th>\n",
       "      <th>Android Ver</th>\n",
       "    </tr>\n",
       "  </thead>\n",
       "  <tbody>\n",
       "    <tr>\n",
       "      <th>0</th>\n",
       "      <td>Photo Editor &amp; Candy Camera &amp; Grid &amp; ScrapBook</td>\n",
       "      <td>ART_AND_DESIGN</td>\n",
       "      <td>4.1</td>\n",
       "      <td>159</td>\n",
       "      <td>19M</td>\n",
       "      <td>10,000+</td>\n",
       "      <td>Free</td>\n",
       "      <td>0</td>\n",
       "      <td>Everyone</td>\n",
       "      <td>Art &amp; Design</td>\n",
       "      <td>January 7, 2018</td>\n",
       "      <td>1.0.0</td>\n",
       "      <td>4.0.3 and up</td>\n",
       "    </tr>\n",
       "    <tr>\n",
       "      <th>1</th>\n",
       "      <td>Coloring book moana</td>\n",
       "      <td>ART_AND_DESIGN</td>\n",
       "      <td>3.9</td>\n",
       "      <td>967</td>\n",
       "      <td>14M</td>\n",
       "      <td>500,000+</td>\n",
       "      <td>Free</td>\n",
       "      <td>0</td>\n",
       "      <td>Everyone</td>\n",
       "      <td>Art &amp; Design;Pretend Play</td>\n",
       "      <td>January 15, 2018</td>\n",
       "      <td>2.0.0</td>\n",
       "      <td>4.0.3 and up</td>\n",
       "    </tr>\n",
       "    <tr>\n",
       "      <th>2</th>\n",
       "      <td>U Launcher Lite – FREE Live Cool Themes, Hide ...</td>\n",
       "      <td>ART_AND_DESIGN</td>\n",
       "      <td>4.7</td>\n",
       "      <td>87510</td>\n",
       "      <td>8.7M</td>\n",
       "      <td>5,000,000+</td>\n",
       "      <td>Free</td>\n",
       "      <td>0</td>\n",
       "      <td>Everyone</td>\n",
       "      <td>Art &amp; Design</td>\n",
       "      <td>August 1, 2018</td>\n",
       "      <td>1.2.4</td>\n",
       "      <td>4.0.3 and up</td>\n",
       "    </tr>\n",
       "    <tr>\n",
       "      <th>3</th>\n",
       "      <td>Sketch - Draw &amp; Paint</td>\n",
       "      <td>ART_AND_DESIGN</td>\n",
       "      <td>4.5</td>\n",
       "      <td>215644</td>\n",
       "      <td>25M</td>\n",
       "      <td>50,000,000+</td>\n",
       "      <td>Free</td>\n",
       "      <td>0</td>\n",
       "      <td>Teen</td>\n",
       "      <td>Art &amp; Design</td>\n",
       "      <td>June 8, 2018</td>\n",
       "      <td>Varies with device</td>\n",
       "      <td>4.2 and up</td>\n",
       "    </tr>\n",
       "    <tr>\n",
       "      <th>4</th>\n",
       "      <td>Pixel Draw - Number Art Coloring Book</td>\n",
       "      <td>ART_AND_DESIGN</td>\n",
       "      <td>4.3</td>\n",
       "      <td>967</td>\n",
       "      <td>2.8M</td>\n",
       "      <td>100,000+</td>\n",
       "      <td>Free</td>\n",
       "      <td>0</td>\n",
       "      <td>Everyone</td>\n",
       "      <td>Art &amp; Design;Creativity</td>\n",
       "      <td>June 20, 2018</td>\n",
       "      <td>1.1</td>\n",
       "      <td>4.4 and up</td>\n",
       "    </tr>\n",
       "  </tbody>\n",
       "</table>\n",
       "</div>"
      ],
      "text/plain": [
       "                                                 App        Category  Rating  \\\n",
       "0     Photo Editor & Candy Camera & Grid & ScrapBook  ART_AND_DESIGN     4.1   \n",
       "1                                Coloring book moana  ART_AND_DESIGN     3.9   \n",
       "2  U Launcher Lite – FREE Live Cool Themes, Hide ...  ART_AND_DESIGN     4.7   \n",
       "3                              Sketch - Draw & Paint  ART_AND_DESIGN     4.5   \n",
       "4              Pixel Draw - Number Art Coloring Book  ART_AND_DESIGN     4.3   \n",
       "\n",
       "  Reviews  Size     Installs  Type Price Content Rating  \\\n",
       "0     159   19M      10,000+  Free     0       Everyone   \n",
       "1     967   14M     500,000+  Free     0       Everyone   \n",
       "2   87510  8.7M   5,000,000+  Free     0       Everyone   \n",
       "3  215644   25M  50,000,000+  Free     0           Teen   \n",
       "4     967  2.8M     100,000+  Free     0       Everyone   \n",
       "\n",
       "                      Genres      Last Updated         Current Ver  \\\n",
       "0               Art & Design   January 7, 2018               1.0.0   \n",
       "1  Art & Design;Pretend Play  January 15, 2018               2.0.0   \n",
       "2               Art & Design    August 1, 2018               1.2.4   \n",
       "3               Art & Design      June 8, 2018  Varies with device   \n",
       "4    Art & Design;Creativity     June 20, 2018                 1.1   \n",
       "\n",
       "    Android Ver  \n",
       "0  4.0.3 and up  \n",
       "1  4.0.3 and up  \n",
       "2  4.0.3 and up  \n",
       "3    4.2 and up  \n",
       "4    4.4 and up  "
      ]
     },
     "metadata": {},
     "output_type": "display_data"
    },
    {
     "data": {
      "text/html": [
       "<div>\n",
       "<style scoped>\n",
       "    .dataframe tbody tr th:only-of-type {\n",
       "        vertical-align: middle;\n",
       "    }\n",
       "\n",
       "    .dataframe tbody tr th {\n",
       "        vertical-align: top;\n",
       "    }\n",
       "\n",
       "    .dataframe thead th {\n",
       "        text-align: right;\n",
       "    }\n",
       "</style>\n",
       "<table border=\"1\" class=\"dataframe\">\n",
       "  <thead>\n",
       "    <tr style=\"text-align: right;\">\n",
       "      <th></th>\n",
       "      <th>App</th>\n",
       "      <th>Translated_Review</th>\n",
       "      <th>Sentiment</th>\n",
       "      <th>Sentiment_Polarity</th>\n",
       "      <th>Sentiment_Subjectivity</th>\n",
       "    </tr>\n",
       "  </thead>\n",
       "  <tbody>\n",
       "    <tr>\n",
       "      <th>0</th>\n",
       "      <td>10 Best Foods for You</td>\n",
       "      <td>I like eat delicious food. That's I'm cooking ...</td>\n",
       "      <td>Positive</td>\n",
       "      <td>1.00</td>\n",
       "      <td>0.533333</td>\n",
       "    </tr>\n",
       "    <tr>\n",
       "      <th>1</th>\n",
       "      <td>10 Best Foods for You</td>\n",
       "      <td>This help eating healthy exercise regular basis</td>\n",
       "      <td>Positive</td>\n",
       "      <td>0.25</td>\n",
       "      <td>0.288462</td>\n",
       "    </tr>\n",
       "    <tr>\n",
       "      <th>2</th>\n",
       "      <td>10 Best Foods for You</td>\n",
       "      <td>NaN</td>\n",
       "      <td>NaN</td>\n",
       "      <td>NaN</td>\n",
       "      <td>NaN</td>\n",
       "    </tr>\n",
       "    <tr>\n",
       "      <th>3</th>\n",
       "      <td>10 Best Foods for You</td>\n",
       "      <td>Works great especially going grocery store</td>\n",
       "      <td>Positive</td>\n",
       "      <td>0.40</td>\n",
       "      <td>0.875000</td>\n",
       "    </tr>\n",
       "    <tr>\n",
       "      <th>4</th>\n",
       "      <td>10 Best Foods for You</td>\n",
       "      <td>Best idea us</td>\n",
       "      <td>Positive</td>\n",
       "      <td>1.00</td>\n",
       "      <td>0.300000</td>\n",
       "    </tr>\n",
       "  </tbody>\n",
       "</table>\n",
       "</div>"
      ],
      "text/plain": [
       "                     App                                  Translated_Review  \\\n",
       "0  10 Best Foods for You  I like eat delicious food. That's I'm cooking ...   \n",
       "1  10 Best Foods for You    This help eating healthy exercise regular basis   \n",
       "2  10 Best Foods for You                                                NaN   \n",
       "3  10 Best Foods for You         Works great especially going grocery store   \n",
       "4  10 Best Foods for You                                       Best idea us   \n",
       "\n",
       "  Sentiment  Sentiment_Polarity  Sentiment_Subjectivity  \n",
       "0  Positive                1.00                0.533333  \n",
       "1  Positive                0.25                0.288462  \n",
       "2       NaN                 NaN                     NaN  \n",
       "3  Positive                0.40                0.875000  \n",
       "4  Positive                1.00                0.300000  "
      ]
     },
     "metadata": {},
     "output_type": "display_data"
    }
   ],
   "source": [
    "gps_raw = pd.read_csv('data/googleplaystore.csv')\n",
    "ur_raw = pd.read_csv('data/googleplaystore_user_reviews.csv')\n",
    "\n",
    "gps_raw.dropna(inplace = True)\n",
    "\n",
    "dsp(gps_raw.head())\n",
    "dsp(ur_raw.head())"
   ]
  },
  {
   "cell_type": "code",
   "execution_count": null,
   "metadata": {},
   "outputs": [],
   "source": []
  },
  {
   "cell_type": "code",
   "execution_count": 7,
   "metadata": {},
   "outputs": [
    {
     "name": "stdout",
     "output_type": "stream",
     "text": [
      "Apps data shape:\n",
      "(9360, 13)\n",
      "Review data shape:\n",
      "(64295, 5)\n",
      "\n",
      "1020 of 8190 apps from the app data set are represented in the reviews.\n"
     ]
    }
   ],
   "source": [
    "#Compare the two datasets:\n",
    "print('Apps data shape:\\n{}'.format(gps_raw.shape))\n",
    "print('Review data shape:\\n{}'.format(ur_raw.shape))\n",
    "\n",
    "isin = 0\n",
    "isnotin = 0\n",
    "\n",
    "review_apps = ur_raw['App'].unique()\n",
    "ps_apps = gps_raw['App'].unique()\n",
    "\n",
    "for app in review_apps:\n",
    "    if app in ps_apps:\n",
    "        isin += 1\n",
    "    else:\n",
    "        isnotin += 1\n",
    "        \n",
    "print('\\n{} of {} apps from the app data set are represented in the reviews.'.format(isin, len(gps_raw['App'].unique())))"
   ]
  },
  {
   "cell_type": "code",
   "execution_count": 8,
   "metadata": {},
   "outputs": [
    {
     "name": "stdout",
     "output_type": "stream",
     "text": [
      "Index(['App', 'Category', 'Rating', 'Reviews', 'Size', 'Installs', 'Type',\n",
      "       'Price', 'Content Rating', 'Genres', 'Last Updated', 'Current Ver',\n",
      "       'Android Ver'],\n",
      "      dtype='object')\n",
      "App\n",
      "8190\n",
      "Category\n",
      "33\n",
      "Reviews\n",
      "5990\n",
      "Size\n",
      "413\n",
      "Installs\n",
      "19\n",
      "Type\n",
      "2\n",
      "Price\n",
      "73\n",
      "Content Rating\n",
      "6\n",
      "Genres\n",
      "115\n",
      "Last Updated\n",
      "1299\n",
      "Current Ver\n",
      "2638\n",
      "Android Ver\n",
      "31\n",
      "Number of unique ratings:  39\n"
     ]
    },
    {
     "data": {
      "image/png": "[encoded data removed]",
      "text/plain": [
       "<Figure size 432x288 with 1 Axes>"
      ]
     },
     "metadata": {
      "needs_background": "light"
     },
     "output_type": "display_data"
    }
   ],
   "source": [
    "#Explore what we have to work with\n",
    "#print('Payment Types:\\n{}'.format(gps_raw['Type'].unique()))\n",
    "print(gps_raw.columns)\n",
    "\n",
    "categorical = gps_raw.select_dtypes(include=['object'])\n",
    "for i in categorical:\n",
    "    column = categorical[i]\n",
    "    print(i)\n",
    "    print(column.nunique())\n",
    "\n",
    "    \n",
    "print('Number of unique ratings: ', len(gps_raw['Rating'].unique()))\n",
    "plt.hist(gps_raw['Rating'])\n",
    "plt.title('Rating Distribution')\n",
    "plt.show()"
   ]
  },
  {
   "cell_type": "markdown",
   "metadata": {},
   "source": [
    "## The Data\n",
    "\n",
    "Interestingly, the 'reviews' data seems to include the results of some prior work with machine learning, as there appears to be score columns for their sentiments. There could be some utility in including features from the review, there isn't enough overlap between the apps represented in both datasets to warrant this inclusion.\n",
    "\n",
    "One thing to note is how many of these potential features are categorical. To deal with this, we will need to create dummy columns which will act as binary features indicating if a given app belongs to a given category. This will increase the number of columns we have considderably, but since most of these columns will be mutually exclusive, we aren't actually adding that many features. Informational entropy will take care of this.\n",
    "\n",
    "We shall now engineer an outcome that most closely matches our business goals.\n"
   ]
  },
  {
   "cell_type": "code",
   "execution_count": 9,
   "metadata": {},
   "outputs": [
    {
     "name": "stdout",
     "output_type": "stream",
     "text": [
      "Number of Normalized Classes:  9\n"
     ]
    },
    {
     "data": {
      "image/png": "[encoded data removed]",
      "text/plain": [
       "<Figure size 432x288 with 1 Axes>"
      ]
     },
     "metadata": {
      "needs_background": "light"
     },
     "output_type": "display_data"
    }
   ],
   "source": [
    "#Y = round(gps_raw['Rating'] ** 3, 2)\n",
    "\n",
    "Y = gps_raw['Rating']\n",
    "\n",
    "Y_normed = round(Y / max(Y), 1) ** 3\n",
    "\n",
    "print('Number of Normalized Classes: ', len(Y_normed.unique()))\n",
    "\n",
    "plt.hist(Y_normed)\n",
    "plt.title('Normalized Rating Distribution')\n",
    "plt.show()"
   ]
  },
  {
   "cell_type": "markdown",
   "metadata": {},
   "source": [
    "## The Decision Tree Model\n",
    "\n",
    "Now that we have normalized our outcomes, we can now create our training data and instantiate our models. Since much of our data is categorical, we will need to create "
   ]
  },
  {
   "cell_type": "code",
   "execution_count": 10,
   "metadata": {},
   "outputs": [
    {
     "name": "stdout",
     "output_type": "stream",
     "text": [
      "Final dataframe shape:\n",
      "(9360, 176)\n"
     ]
    },
    {
     "name": "stderr",
     "output_type": "stream",
     "text": [
      "/usr/local/lib/python3.6/dist-packages/ipykernel_launcher.py:8: SettingWithCopyWarning: \n",
      "A value is trying to be set on a copy of a slice from a DataFrame.\n",
      "Try using .loc[row_indexer,col_indexer] = value instead\n",
      "\n",
      "See the caveats in the documentation: http://pandas.pydata.org/pandas-docs/stable/indexing.html#indexing-view-versus-copy\n",
      "  \n",
      "/usr/local/lib/python3.6/dist-packages/ipykernel_launcher.py:9: SettingWithCopyWarning: \n",
      "A value is trying to be set on a copy of a slice from a DataFrame.\n",
      "Try using .loc[row_indexer,col_indexer] = value instead\n",
      "\n",
      "See the caveats in the documentation: http://pandas.pydata.org/pandas-docs/stable/indexing.html#indexing-view-versus-copy\n",
      "  if __name__ == '__main__':\n"
     ]
    }
   ],
   "source": [
    "#Select categorical data we want\n",
    "#cat = gps_raw[['Category', 'Installs', 'Content Rating']]\n",
    "\n",
    "#Create Columns\n",
    "data = gps_raw[['Category', 'Rating', 'Installs', 'Content Rating', 'Genres']]\n",
    "\n",
    "#Cast columns w/numeric data to a numeric type\n",
    "data['Reviews'] = gps_raw['Reviews'].astype(int)\n",
    "data['Price'] = gps_raw['Price'].str.replace('$', '').astype(float)\n",
    "\n",
    "#Create dummy variables for binary features\n",
    "data = pd.get_dummies(data)\n",
    "\n",
    "print('Final dataframe shape:\\n{}'.format(data.shape))"
   ]
  },
  {
   "cell_type": "code",
   "execution_count": 11,
   "metadata": {},
   "outputs": [
    {
     "name": "stdout",
     "output_type": "stream",
     "text": [
      "Possible outcomes:\n",
      "['4.0' '5.0' '3.0' '2.0' '1.0']\n"
     ]
    }
   ],
   "source": [
    "col_read = False\n",
    "\n",
    "if col_read == True:\n",
    "    for col in data.columns:\n",
    "        print(col)\n",
    "        \n",
    "#Set up Features, outcomes\n",
    "#Here we pass in our normalized outcome 'Y'\n",
    "X = data.drop(columns = ['Rating'])\n",
    "Y_num = Y\n",
    "Y_cat = round(Y).astype(str)\n",
    "\n",
    "print('Possible outcomes:\\n{}'.format(Y_cat.unique()))"
   ]
  },
  {
   "cell_type": "code",
   "execution_count": 12,
   "metadata": {},
   "outputs": [],
   "source": [
    "#Lets make a decision tree\n",
    "\n",
    "\n",
    "\n",
    "#Render Tree\n",
    "#dot_data = tree.export_graphviz(\n",
    "#    dt_cls, out_file=None,\n",
    "#    feature_names=X.columns,\n",
    "#    class_names=Y_cat.unique(),\n",
    "#    filled=True\n",
    "#)\n",
    "\n",
    "#graph = pydotplus.graph_from_dot_data(dot_data)\n",
    "#dsp(Image(graph.create_png()))"
   ]
  },
  {
   "cell_type": "code",
   "execution_count": 14,
   "metadata": {},
   "outputs": [
    {
     "name": "stdout",
     "output_type": "stream",
     "text": [
      "\n",
      "Model Score:  0.754059829059829\n",
      "\n",
      "Fold Scores:\n",
      " [0.71878335 0.72237053 0.72688402 0.7172635  0.72741849]\n",
      "\n",
      "Confusion Matrix:\n",
      " [[   7    0    0    4    9]\n",
      " [   2   13    0  103   12]\n",
      " [   0    2   35  501   44]\n",
      " [   0    1    9 6466  235]\n",
      " [   0    1    5 1374  537]]\n",
      "\n",
      "\n",
      "--- 0.49880337715148926 seconds ---\n"
     ]
    },
    {
     "ename": "ValueError",
     "evalue": "Unknown label type: 'continuous'",
     "output_type": "error",
     "traceback": [
      "\u001b[0;31m---------------------------------------------------------------------------\u001b[0m",
      "\u001b[0;31mValueError\u001b[0m                                Traceback (most recent call last)",
      "\u001b[0;32m<ipython-input-14-89d51805ac77>\u001b[0m in \u001b[0;36m<module>\u001b[0;34m\u001b[0m\n\u001b[1;32m     22\u001b[0m \u001b[0mprint\u001b[0m\u001b[0;34m(\u001b[0m\u001b[0;34m\"\\n\\n--- %s seconds ---\"\u001b[0m \u001b[0;34m%\u001b[0m \u001b[0;34m(\u001b[0m\u001b[0mtime\u001b[0m\u001b[0;34m.\u001b[0m\u001b[0mtime\u001b[0m\u001b[0;34m(\u001b[0m\u001b[0;34m)\u001b[0m \u001b[0;34m-\u001b[0m \u001b[0mstart_time\u001b[0m\u001b[0;34m)\u001b[0m\u001b[0;34m)\u001b[0m\u001b[0;34m\u001b[0m\u001b[0;34m\u001b[0m\u001b[0m\n\u001b[1;32m     23\u001b[0m \u001b[0;34m\u001b[0m\u001b[0m\n\u001b[0;32m---> 24\u001b[0;31m \u001b[0mmodel_validate\u001b[0m\u001b[0;34m(\u001b[0m\u001b[0mdt_cls\u001b[0m\u001b[0;34m,\u001b[0m \u001b[0mX\u001b[0m\u001b[0;34m,\u001b[0m \u001b[0mY\u001b[0m\u001b[0;34m)\u001b[0m\u001b[0;34m\u001b[0m\u001b[0;34m\u001b[0m\u001b[0m\n\u001b[0m",
      "\u001b[0;32m<ipython-input-5-d4dbb5878759>\u001b[0m in \u001b[0;36mmodel_validate\u001b[0;34m(mod, X, Y)\u001b[0m\n\u001b[1;32m      4\u001b[0m \u001b[0;34m\u001b[0m\u001b[0m\n\u001b[1;32m      5\u001b[0m     \u001b[0mstart_time\u001b[0m \u001b[0;34m=\u001b[0m \u001b[0mtime\u001b[0m\u001b[0;34m.\u001b[0m\u001b[0mtime\u001b[0m\u001b[0;34m(\u001b[0m\u001b[0;34m)\u001b[0m\u001b[0;34m\u001b[0m\u001b[0;34m\u001b[0m\u001b[0m\n\u001b[0;32m----> 6\u001b[0;31m     \u001b[0mmod\u001b[0m\u001b[0;34m.\u001b[0m\u001b[0mfit\u001b[0m\u001b[0;34m(\u001b[0m\u001b[0mX_train\u001b[0m\u001b[0;34m,\u001b[0m \u001b[0mY_train\u001b[0m\u001b[0;34m)\u001b[0m\u001b[0;34m\u001b[0m\u001b[0;34m\u001b[0m\u001b[0m\n\u001b[0m\u001b[1;32m      7\u001b[0m     \u001b[0mprint\u001b[0m\u001b[0;34m(\u001b[0m\u001b[0;34m'Training time:\\n{} s'\u001b[0m\u001b[0;34m.\u001b[0m\u001b[0mformat\u001b[0m\u001b[0;34m(\u001b[0m\u001b[0mtime\u001b[0m\u001b[0;34m.\u001b[0m\u001b[0mtime\u001b[0m\u001b[0;34m(\u001b[0m\u001b[0;34m)\u001b[0m \u001b[0;34m-\u001b[0m \u001b[0mstart_time\u001b[0m\u001b[0;34m)\u001b[0m\u001b[0;34m)\u001b[0m\u001b[0;34m\u001b[0m\u001b[0;34m\u001b[0m\u001b[0m\n\u001b[1;32m      8\u001b[0m \u001b[0;34m\u001b[0m\u001b[0m\n",
      "\u001b[0;32m/usr/local/lib/python3.6/dist-packages/sklearn/tree/tree.py\u001b[0m in \u001b[0;36mfit\u001b[0;34m(self, X, y, sample_weight, check_input, X_idx_sorted)\u001b[0m\n\u001b[1;32m    799\u001b[0m             \u001b[0msample_weight\u001b[0m\u001b[0;34m=\u001b[0m\u001b[0msample_weight\u001b[0m\u001b[0;34m,\u001b[0m\u001b[0;34m\u001b[0m\u001b[0;34m\u001b[0m\u001b[0m\n\u001b[1;32m    800\u001b[0m             \u001b[0mcheck_input\u001b[0m\u001b[0;34m=\u001b[0m\u001b[0mcheck_input\u001b[0m\u001b[0;34m,\u001b[0m\u001b[0;34m\u001b[0m\u001b[0;34m\u001b[0m\u001b[0m\n\u001b[0;32m--> 801\u001b[0;31m             X_idx_sorted=X_idx_sorted)\n\u001b[0m\u001b[1;32m    802\u001b[0m         \u001b[0;32mreturn\u001b[0m \u001b[0mself\u001b[0m\u001b[0;34m\u001b[0m\u001b[0;34m\u001b[0m\u001b[0m\n\u001b[1;32m    803\u001b[0m \u001b[0;34m\u001b[0m\u001b[0m\n",
      "\u001b[0;32m/usr/local/lib/python3.6/dist-packages/sklearn/tree/tree.py\u001b[0m in \u001b[0;36mfit\u001b[0;34m(self, X, y, sample_weight, check_input, X_idx_sorted)\u001b[0m\n\u001b[1;32m    138\u001b[0m \u001b[0;34m\u001b[0m\u001b[0m\n\u001b[1;32m    139\u001b[0m         \u001b[0;32mif\u001b[0m \u001b[0mis_classification\u001b[0m\u001b[0;34m:\u001b[0m\u001b[0;34m\u001b[0m\u001b[0;34m\u001b[0m\u001b[0m\n\u001b[0;32m--> 140\u001b[0;31m             \u001b[0mcheck_classification_targets\u001b[0m\u001b[0;34m(\u001b[0m\u001b[0my\u001b[0m\u001b[0;34m)\u001b[0m\u001b[0;34m\u001b[0m\u001b[0;34m\u001b[0m\u001b[0m\n\u001b[0m\u001b[1;32m    141\u001b[0m             \u001b[0my\u001b[0m \u001b[0;34m=\u001b[0m \u001b[0mnp\u001b[0m\u001b[0;34m.\u001b[0m\u001b[0mcopy\u001b[0m\u001b[0;34m(\u001b[0m\u001b[0my\u001b[0m\u001b[0;34m)\u001b[0m\u001b[0;34m\u001b[0m\u001b[0;34m\u001b[0m\u001b[0m\n\u001b[1;32m    142\u001b[0m \u001b[0;34m\u001b[0m\u001b[0m\n",
      "\u001b[0;32m/usr/local/lib/python3.6/dist-packages/sklearn/utils/multiclass.py\u001b[0m in \u001b[0;36mcheck_classification_targets\u001b[0;34m(y)\u001b[0m\n\u001b[1;32m    169\u001b[0m     if y_type not in ['binary', 'multiclass', 'multiclass-multioutput',\n\u001b[1;32m    170\u001b[0m                       'multilabel-indicator', 'multilabel-sequences']:\n\u001b[0;32m--> 171\u001b[0;31m         \u001b[0;32mraise\u001b[0m \u001b[0mValueError\u001b[0m\u001b[0;34m(\u001b[0m\u001b[0;34m\"Unknown label type: %r\"\u001b[0m \u001b[0;34m%\u001b[0m \u001b[0my_type\u001b[0m\u001b[0;34m)\u001b[0m\u001b[0;34m\u001b[0m\u001b[0;34m\u001b[0m\u001b[0m\n\u001b[0m\u001b[1;32m    172\u001b[0m \u001b[0;34m\u001b[0m\u001b[0m\n\u001b[1;32m    173\u001b[0m \u001b[0;34m\u001b[0m\u001b[0m\n",
      "\u001b[0;31mValueError\u001b[0m: Unknown label type: 'continuous'"
     ]
    }
   ],
   "source": [
    "start_time = time.time()\n",
    "\n",
    "dt_cls = tree.DecisionTreeClassifier(\n",
    "    criterion='entropy',\n",
    "    #max_features=8,\n",
    "    max_depth=8\n",
    "    #random_state = 10\n",
    ")\n",
    "\n",
    "dt_cls.fit(X, Y_cat)\n",
    "\n",
    "#Model Score\n",
    "print('\\nModel Score: ',dt_cls.score(X, Y_cat))\n",
    "\n",
    "#Model Validation\n",
    "print('\\nFold Scores:\\n', cross_val_score(dt_cls, X, Y_cat, cv = 5))\n",
    "\n",
    "#Confusion matrix\n",
    "Y_cat_pred = dt_cls.predict(X)\n",
    "print('\\nConfusion Matrix:\\n', confusion_matrix(Y_cat, Y_cat_pred))\n",
    "\n",
    "print(\"\\n\\n--- %s seconds ---\" % (time.time() - start_time))\n",
    "\n",
    "#model_validate(dt_cls, X, Y)"
   ]
  },
  {
   "cell_type": "markdown",
   "metadata": {},
   "source": [
    "__Decision Tree Analysis__\n",
    "\n",
    "Wow, that is pretty terrible! While the accuracy appears pretty high (~71%), our decision tree only seems to recognize two classes.\n",
    "\n",
    "Although they are among the most intuitive models available, individual decision trees do not make very strong learners. Decision trees are best used in ensemble modeling, where you have numerous models that have a vote on what class a given observation should be. So next, we will generate an ensemble model called a \"Random Forest\".\n",
    "\n",
    "## The Random Forest Model\n",
    "\n",
    "A random forest consists of numerous decision trees each trained on their own section of data. Each tree has a vote in deciding what class an observation belongs to."
   ]
  },
  {
   "cell_type": "code",
   "execution_count": 19,
   "metadata": {},
   "outputs": [
    {
     "name": "stdout",
     "output_type": "stream",
     "text": [
      "\n",
      "Model Score:  0.9842948717948717\n",
      "\n",
      "Fold Scores:\n",
      " [0.67929562 0.72450614 0.6707643  0.63495457 0.64831641]\n",
      "\n",
      "Confusion Matrix:\n",
      " [[  15    1    0    1    3]\n",
      " [   1  113    1    8    7]\n",
      " [   0    1  558   17    6]\n",
      " [   3    1   11 6652   44]\n",
      " [   1    1    9   31 1875]]\n",
      "\n",
      "\n",
      "--- 10.244133949279785 seconds ---\n"
     ]
    }
   ],
   "source": [
    "start_time = time.time()\n",
    "\n",
    "clf = ensemble.RandomForestClassifier(n_estimators = 100)\n",
    "clf.fit(X, Y_cat)\n",
    "\n",
    "#Model Score\n",
    "print('\\nModel Score: ',clf.score(X, Y_cat))\n",
    "\n",
    "#Validation\n",
    "print('\\nFold Scores:\\n', cross_val_score(clf, X, Y_cat, cv = 5))\n",
    "\n",
    "#Confusion Matrix\n",
    "Y_clf_pred = clf.predict(X)\n",
    "print('\\nConfusion Matrix:\\n', confusion_matrix(Y_cat, Y_clf_pred))\n",
    "\n",
    "print(\"\\n\\n--- %s seconds ---\" % (time.time() - start_time))"
   ]
  },
  {
   "cell_type": "markdown",
   "metadata": {},
   "source": [
    "__Random Forest Analysis__\n",
    "\n",
    "Overfitting is readlily apparent in this classifier out of the box, this will require some tuning."
   ]
  },
  {
   "cell_type": "code",
   "execution_count": null,
   "metadata": {},
   "outputs": [],
   "source": [
    "start_time = time.time()\n",
    "\n",
    "clf_rev = ensemble.RandomForestClassifier(n_estimators = 200)\n",
    "clf_rev.fit(X, Y_cat)\n",
    "\n",
    "#Model Score\n",
    "print('\\nModel Score: ',clf_rev.score(X, Y_cat))\n",
    "\n",
    "#Validation\n",
    "print('\\nFold Scores:\\n', cross_val_score(clf_rev, X, Y_cat, cv = 5))\n",
    "\n",
    "#Confusion Matrix\n",
    "Y_clf_rev_pred = clf_rev.predict(X)\n",
    "print('\\nConfusion Matrix:\\n', confusion_matrix(Y_cat, Y_clf_rev_pred))\n",
    "\n",
    "print(\"\\n\\n--- %s seconds ---\" % (time.time() - start_time))"
   ]
  },
  {
   "cell_type": "markdown",
   "metadata": {},
   "source": [
    "## Boosting Models\n",
    "\n",
    "There is one other way we can engineer a model using decision trees, and that is with the use of gradient boosting.\n",
    "\n",
    "Gradient boosting a type of ensemble modeling in which a number of simple trees (one for each class in the outcome) are trained on the data, each deciding if a given observation belongs to their category or not. The observations that the system incorrectly identified are used as the next training set. This process then iterates until it minimizes the loss."
   ]
  },
  {
   "cell_type": "code",
   "execution_count": 16,
   "metadata": {},
   "outputs": [
    {
     "name": "stdout",
     "output_type": "stream",
     "text": [
      "\n",
      "Model Score:  0.7539529914529914\n",
      "\n",
      "Fold Scores:\n",
      " [0.72145144 0.72023492 0.73597007 0.72421165 0.74184928]\n",
      "\n",
      "Confusion Matrix:\n",
      " [[   9    0    0    4    7]\n",
      " [   1   13    0  102   14]\n",
      " [   0    0   16  516   50]\n",
      " [   0    0    2 6595  114]\n",
      " [   0    0    0 1493  424]]\n",
      "\n",
      "\n",
      "--- 61.81561470031738 seconds ---\n"
     ]
    }
   ],
   "source": [
    "start_time = time.time()\n",
    "\n",
    "gbc = ensemble.GradientBoostingClassifier(learning_rate = 0.1)\n",
    "gbc.fit(X, Y_cat)\n",
    "\n",
    "#Validation\n",
    "\n",
    "#Model Score:\n",
    "print('\\nModel Score: ',gbc.score(X, Y_cat))\n",
    "\n",
    "#Fold Scores:\n",
    "print('\\nFold Scores:\\n', cross_val_score(gbc, X, Y_cat, cv = 5))\n",
    "\n",
    "#Confusion Matrix\n",
    "Y_gbc_pred = gbc.predict(X)\n",
    "print('\\nConfusion Matrix:\\n', confusion_matrix(Y_cat, Y_gbc_pred))\n",
    "\n",
    "print(\"\\n\\n--- %s seconds ---\" % (time.time() - start_time))"
   ]
  },
  {
   "cell_type": "markdown",
   "metadata": {},
   "source": [
    "__Analysis__\n",
    "\n",
    "These are the best results yet! Errors are fairly distributed accross all categories, and we have fairly high accuracies in our cross validation scores (between 71% and 74%)."
   ]
  }
 ],
 "metadata": {
  "kernelspec": {
   "display_name": "Python 3",
   "language": "python",
   "name": "python3"
  },
  "language_info": {
   "codemirror_mode": {
    "name": "ipython",
    "version": 3
   },
   "file_extension": ".py",
   "mimetype": "text/x-python",
   "name": "python",
   "nbconvert_exporter": "python",
   "pygments_lexer": "ipython3",
   "version": "3.6.7"
  }
 },
 "nbformat": 4,
 "nbformat_minor": 2
}
